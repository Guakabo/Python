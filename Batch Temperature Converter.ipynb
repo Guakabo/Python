{
 "cells": [
  {
   "cell_type": "markdown",
   "metadata": {},
   "source": [
    "# Batch Temperature Converter\n",
    "This application will verify the existance of a file containing Fahrenheit temperatures. If the file does not exist, the program will end execution. Otherwise, the file containing the Fahrenheit temperatures will be converted to Celsius and output the result to a separate file.\n",
    "\n",
    "Input: File containing the Fahrenheit values, file name for the output file.\n",
    "\n",
    "Process:\n",
    "\n",
    "1. Get input file name and validation\n",
    "2. Get output file name and validation\n",
    "3. Iterrate through input file \n",
    "4. Write the output unto a different file\n",
    "5. Display file location to the user\n",
    "\n",
    "Output: File with converted values from Fahrenheit to Celsius.\n",
    "\n",
    "Author:Christian Sierra\n",
    "\n",
    "Date:11/3/2020"
   ]
  },
  {
   "cell_type": "code",
   "execution_count": null,
   "metadata": {},
   "outputs": [],
   "source": [
    "import os #Imports the os module\n",
    "\n",
    "#Create formatter \n",
    "formatter = '{a:.2f}'\n",
    "\n",
    "#This function takes Fahrenheit degrees and turns them into Celsius, then returns the integer. \n",
    "def f_to_c(fahrenheitTemp):\n",
    "    celsiusTemp = (fahrenheitTemp - 32) / 1.8\n",
    "    celsiusTemp = formatter.format(a=celsiusTemp) #Formatter to two float values and truncates the rest\n",
    "    return (celsiusTemp)\n",
    "\n",
    "fileName = ''\n",
    "\n",
    "#Validation loop, ensures the input is a .txt file\n",
    "while not fileName.endswith('.txt'):\n",
    "    fileName = input('Please enter the name of the input \".txt\" file: ')\n",
    "\n",
    "#Verifies there is no file with that name\n",
    "if not os.path.exists(fileName):\n",
    "    print('The input file does not exist.')\n",
    "\n",
    "newFile = ''\n",
    "\n",
    "##Validation loop, ensures the output is a .txt file\n",
    "while not newFile.endswith('.txt'):\n",
    "    newFile = input('Please enter the name of the output \".txt\" file: ')\n",
    "\n",
    "#Open the input file as 'readFile'\n",
    "readFile = open(fileName)\n",
    "\n",
    "#Open the output file as 'cFile' with 'a' for appending priviledge\n",
    "cFile = open(newFile, 'a')\n",
    "\n",
    "#Starts day counter\n",
    "day = 1\n",
    "\n",
    "#For loop to iterate through the file line by line\n",
    "for line in readFile:\n",
    "    celsius = f_to_c(int(line))\n",
    "    cFile.write('Day '+str(day).ljust(2)+' :') #Displays the days and adjusts it to the left\n",
    "    cFile.write(str(celsius).rjust(10)) #Displays the degrees adjusted to the right\n",
    "    cFile.write('\\n') \n",
    "    day+=1 #Increase counter\n",
    "\n",
    "print('\\n') #Creates padding between outfile and line 49's print statement for ease of reading.\n",
    "print('Temperature converted. Please see text file '+str(newFile)+' for the result.') #Output validation\n",
    "\n",
    "#Close both files\n",
    "readFile.close() \n",
    "cFile.close()"
   ]
  }
 ],
 "metadata": {
  "kernelspec": {
   "display_name": "Python 3",
   "language": "python",
   "name": "python3"
  },
  "language_info": {
   "codemirror_mode": {
    "name": "ipython",
    "version": 3
   },
   "file_extension": ".py",
   "mimetype": "text/x-python",
   "name": "python",
   "nbconvert_exporter": "python",
   "pygments_lexer": "ipython3",
   "version": "3.8.3"
  }
 },
 "nbformat": 4,
 "nbformat_minor": 4
}
