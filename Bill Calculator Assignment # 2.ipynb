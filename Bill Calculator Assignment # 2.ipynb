{
 "cells": [
  {
   "cell_type": "markdown",
   "metadata": {},
   "source": [
    "# Bill Calculator\n",
    "\n",
    "This program will compute the tax and tip on a restaurant bill. The tax rate is set to 8.1% and the tip shall be charged after taxes.\n",
    "\n",
    "Input: Meal charge, tip percentage\n",
    "\n",
    "Output: The meal charge, the tax amount, tip charged, and the total amount properly formatted with dollar sign and 2 \n",
    "decimal places.\n",
    "\n",
    "Processing:\n",
    "\n",
    "1. Set tax \n",
    "2. Get user input (meal charge and tip percentage)\n",
    "3. Calculate tax on the meal\n",
    "4. Add meal and the tax calculated\n",
    "5. Calculate the tip amount\n",
    "6. Add tip amount to total\n",
    "7. Format the output\n",
    "8. Display meal charge, tip percentage, amount of tax charged, tip amount and total\n",
    "\n",
    "Author: Christian Sierra\n",
    "\n",
    "Date:9/15/2020"
   ]
  },
  {
   "cell_type": "code",
   "execution_count": 1,
   "metadata": {},
   "outputs": [
    {
     "name": "stdout",
     "output_type": "stream",
     "text": [
      "What was the total of the meal? 90\n",
      "What is the tip percentage you wish to leave? 20\n",
      "For a meal charge of $90.00 with a 20.00% tip\n",
      "the tax amount is $7.29 the tip amount is $19.46\n",
      "and the total is $116.75.\n"
     ]
    }
   ],
   "source": [
    "#Set tax rate \n",
    "taxRate = (.081)\n",
    "\n",
    "#Prompt user input for the meal, changing it to a float for precise value\n",
    "mealCharge = float(input('What was the total of the meal? '))\n",
    "\n",
    "#Prompt tip%, changing it to a float for precise value\n",
    "tipPercentage = float(input('What is the tip percentage you wish to leave? '))\n",
    "\n",
    "#Calculate the tax for the meal\n",
    "mealTax = mealCharge * taxRate\n",
    "\n",
    "#Adds meal and taxes to create new amount\n",
    "mealWithTaxes = mealCharge + mealTax\n",
    "\n",
    "#Calculate tips based on the value after adding meal and taxes together\n",
    "mealTip = mealWithTaxes * (tipPercentage/100)\n",
    "\n",
    "#Total amount for the meal with taxes and tip included\n",
    "mealTotal = mealWithTaxes + mealTip\n",
    "\n",
    "#Create formatter in order to format the output adding commas to the thousands and rounding up to two float values.\n",
    "formatter = '{a:,.2f}'\n",
    "\n",
    "#Displays the output. Concatenates string values with the float values and applies the formatter. \n",
    "print('For a meal charge of $' +formatter.format(a=mealCharge)+ ' with a '+formatter.format(a=tipPercentage)+'% tip')\n",
    "print('the tax amount is $'+formatter.format(a=mealTax)+ ' the tip amount is $'+formatter.format(a=mealTip))\n",
    "print('and the total is $'+formatter.format(a=mealTotal)+ '.')"
   ]
  }
 ],
 "metadata": {
  "kernelspec": {
   "display_name": "Python 3",
   "language": "python",
   "name": "python3"
  },
  "language_info": {
   "codemirror_mode": {
    "name": "ipython",
    "version": 3
   },
   "file_extension": ".py",
   "mimetype": "text/x-python",
   "name": "python",
   "nbconvert_exporter": "python",
   "pygments_lexer": "ipython3",
   "version": "3.8.3"
  }
 },
 "nbformat": 4,
 "nbformat_minor": 2
}
