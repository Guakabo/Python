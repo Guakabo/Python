{
 "cells": [
  {
   "cell_type": "markdown",
   "metadata": {},
   "source": [
    "# GPA Calculator\n",
    "This program will calculate the GPA for a student based on the number of courses taken and the grade received.\n",
    "\n",
    "Input: Number of courses taken, number of credits and grade earned.\n",
    "\n",
    "Output: Display student's GPA \n",
    "\n",
    "Author: Christian Sierra\n",
    "\n",
    "Date: 09/29/2020"
   ]
  },
  {
   "cell_type": "code",
   "execution_count": null,
   "metadata": {},
   "outputs": [],
   "source": [
    "#Define GPA function\n",
    "def no_gpa(courses,noCredit):\n",
    "    if courses == 0 or noCredit == 0:\n",
    "        return True\n",
    "    else:\n",
    "        return False\n",
    "\n",
    "#Define function to calculate GPA\n",
    "def gpa_calculator(gradePoint, credits, courses ):\n",
    "    result = gradePoint/credits\n",
    "    return result\n",
    "    \n",
    "#Converts grades into int values to calculate grade point\n",
    "def grade_converter(grade):\n",
    "    if grade == 'A':\n",
    "        return 4\n",
    "    elif grade == 'B':\n",
    "        return 3\n",
    "    elif grade == 'C':\n",
    "        return 2\n",
    "    else:\n",
    "        return 0\n",
    "        \n",
    "#Initiate variables, both will be used as accumulators \n",
    "totalPoints = 0\n",
    "totalCredits = 0\n",
    "\n",
    "#Define formatter\n",
    "formatter = '{a:.2f}'\n",
    "\n",
    "#Explains the purpose of the program\n",
    "print('This program calculates the Grade Point Average '+'('+'GPA'+') for you! ')\n",
    "\n",
    "#Ask for the number of courses taken\n",
    "courseNum = -1 #Initiates loop for validity\n",
    "while courseNum < 0:\n",
    "    courseNum = float(input('How many courses have you taken? No negative values! '))\n",
    "    courseNum = int(courseNum)\n",
    "\n",
    "\n",
    "for n in range (1,courseNum+1): #+1 to ensure display shows appropriate class number\n",
    "        creditNum = -1\n",
    "        while creditNum < 0: #Valid input check\n",
    "            creditNum = float(input('How many credits is course '+str(n)+'? No negative values! '))\n",
    "            creditNum = int(creditNum)\n",
    "            \n",
    "        letterGrade = 'g' #Initiate loop with value 'g' which is outside of the accepted values\n",
    "        while letterGrade != 'A' and letterGrade != 'B' and letterGrade != 'C' and letterGrade != 'F':\n",
    "            letterGrade = input('What grade did you receive? A, B, C, or F? These are the only acceptable values! ')\n",
    "            letterGrade = letterGrade.upper() #turns the input into uppercase for programming efficiency\n",
    "            \n",
    "        letterGrade = grade_converter(letterGrade) #Inserts grade letter into function \n",
    "        points = letterGrade * creditNum #Calculates points\n",
    "        totalPoints += points #Accumulator for total grade points\n",
    "        totalCredits += creditNum #Accumulator for total credits\n",
    "\n",
    "if no_gpa(courseNum,totalCredits) == True: #This condition will only trigger if 0 courses are taken or 0 total credits\n",
    "    print('0 credit. GPA is not calculated')\n",
    "else:\n",
    "    print('Your GPA is '+formatter.format(a=gpa_calculator(totalPoints, totalCredits, courseNum))) #Formatted output"
   ]
  }
 ],
 "metadata": {
  "kernelspec": {
   "display_name": "Python 3",
   "language": "python",
   "name": "python3"
  },
  "language_info": {
   "codemirror_mode": {
    "name": "ipython",
    "version": 3
   },
   "file_extension": ".py",
   "mimetype": "text/x-python",
   "name": "python",
   "nbconvert_exporter": "python",
   "pygments_lexer": "ipython3",
   "version": "3.8.3"
  }
 },
 "nbformat": 4,
 "nbformat_minor": 4
}
