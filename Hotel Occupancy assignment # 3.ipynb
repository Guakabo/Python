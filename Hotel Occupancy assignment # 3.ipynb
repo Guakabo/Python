{
 "cells": [
  {
   "cell_type": "markdown",
   "metadata": {},
   "source": [
    "# Hotel Occupancy\n",
    "This program will calculate the occupancy rate for a hotel\n",
    "\n",
    "Input: Number of total rooms, number of occupied rooms, number of floors.\n",
    "\n",
    "Output: Number of total rooms, occupied rooms, vacant rooms, the occupancy rate and manager suggestion.\n",
    "\n",
    "Processing:\n",
    "1. Ask for floor input\n",
    "2. Input number of rooms on that floor\n",
    "3. Input number of occupied rooms in floor\n",
    "4. Add values to accumulators\n",
    "5. Increase counter \n",
    "6. Calculate occupancy rate\n",
    "7. Display number of rooms the hotel has, total occupied, total vacant, and the occupancy rate\n",
    "8. Display advice to manager based on occupancy rate\n",
    "\n",
    "\n",
    "Author: Christian Sierra\n",
    "\n",
    "Date: 9/22/2020"
   ]
  },
  {
   "cell_type": "code",
   "execution_count": 4,
   "metadata": {},
   "outputs": [
    {
     "name": "stdout",
     "output_type": "stream",
     "text": [
      "Please input total number of hotel floors. Use whole numbers higher than zero 3\n",
      "Total rooms in floor 1? Must be more than one: 100.7\n",
      "Occupied rooms in floor 1? Must be less than total:50.5\n",
      "Total rooms in floor 2? Must be more than one: 100.9\n",
      "Occupied rooms in floor 2? Must be less than total:50.5\n",
      "Total rooms in floor 3? Must be more than one: 100.4\n",
      "Occupied rooms in floor 3? Must be less than total:50.3\n",
      "All hotel information: \n",
      " Total Rooms: 300\n",
      " Occupied Rooms: 150 \n",
      " Vacancy: 150\n",
      "On track. All good. \n"
     ]
    }
   ],
   "source": [
    "#Initiate variables\n",
    "\n",
    "hotelFloors= 0\n",
    "hotelRooms = 0\n",
    "hotelOccupancy = 0\n",
    "totalRooms = 0\n",
    "occupiedRooms = 0\n",
    "floorCounter = 1\n",
    "\n",
    "#Loop in order to avoid floors < 1. At least one floor most be present\n",
    "while hotelFloors < 1:\n",
    "    hotelFloors= float(input('Please input total number of hotel floors. Use whole numbers higher than zero '))\n",
    "    hotelFloors=int(hotelFloors) #Allows float values to be truncated, converting into integer\n",
    "\n",
    "#While loop to compare counter with hotel floor amount\n",
    "while floorCounter <= hotelFloors:\n",
    "    while totalRooms <= 0: #Ensures no negative room value is possible.\n",
    "        totalRooms= float(input('Total rooms in floor '+str(floorCounter)+'? Must be more than one: '))\n",
    "        totalRooms= int(totalRooms) #Turns possible float into integer\n",
    "        occupiedRooms = totalRooms +1 #Allows for next while loop to initialize\n",
    "    while totalRooms < occupiedRooms or occupiedRooms < 0: #The 'or' is necessary to prevent negative values\n",
    "        occupiedRooms= float(input('Occupied rooms in floor '+str(floorCounter)+'? Must be less than total:'))\n",
    "        occupiedRooms= int(occupiedRooms) #Turns possible float into integer\n",
    "    hotelRooms += totalRooms\n",
    "    hotelOccupancy += occupiedRooms\n",
    "    vacancy = hotelRooms - hotelOccupancy #Vacancy calculation\n",
    "    floorCounter+=1 #Increase counter by 1\n",
    "    totalRooms=0 #Reinitiate the value for the while loop to reiterate\n",
    "    occupiedRooms=0 #Reinitiate the value for the while loop to reiterate\n",
    "\n",
    "occupancyRate = (hotelOccupancy/hotelRooms)*100 #Calculates occupancy rate and converts it into integer value\n",
    "\n",
    "#Displays all the output using f string literals. \\n allows for it to be displayed in a new line\n",
    "print(f'All hotel information: \\n Total Rooms: {hotelRooms}\\n Occupied Rooms: {hotelOccupancy} \\n Vacancy: {vacancy}')\n",
    "\n",
    "#Conditional statements which displays different messages as requested by the assignment\n",
    "if occupancyRate < 50:\n",
    "    print('Low occupancy. Should do some promotions. ')\n",
    "elif occupancyRate > 80:\n",
    "    print('High occupancy. Call more staff in. ')\n",
    "else:\n",
    "    print('On track. All good. ')\n"
   ]
  }
 ],
 "metadata": {
  "kernelspec": {
   "display_name": "Python 3",
   "language": "python",
   "name": "python3"
  },
  "language_info": {
   "codemirror_mode": {
    "name": "ipython",
    "version": 3
   },
   "file_extension": ".py",
   "mimetype": "text/x-python",
   "name": "python",
   "nbconvert_exporter": "python",
   "pygments_lexer": "ipython3",
   "version": "3.8.3"
  }
 },
 "nbformat": 4,
 "nbformat_minor": 2
}
